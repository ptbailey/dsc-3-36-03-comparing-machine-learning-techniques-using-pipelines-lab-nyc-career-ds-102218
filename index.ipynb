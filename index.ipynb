{
 "cells": [
  {
   "cell_type": "markdown",
   "metadata": {},
   "source": [
    "# Comparing Machine Learning Techniques using Pipelines - Lab"
   ]
  },
  {
   "cell_type": "markdown",
   "metadata": {},
   "source": [
    "## Introduction"
   ]
  },
  {
   "cell_type": "markdown",
   "metadata": {},
   "source": [
    "In this lab, you'lll use a Dataset created by Otto group, which was also used in a [Kaggle competition](https://www.kaggle.com/c/otto-group-product-classification-challenge/data).\n",
    "\n",
    "The description of the data set is as follows:\n",
    "\n",
    "The Otto Group is one of the world’s biggest e-commerce companies, with subsidiaries in more than 20 countries, including Crate & Barrel (USA), Otto.de (Germany) and 3 Suisses (France). They are selling millions of products worldwide every day, with several thousand products being added to our product line.\n",
    "\n",
    "A consistent analysis of the performance of our products is crucial. However, due to their global infrastructure, many identical products get classified differently. Therefore, the quality of our product analysis depends heavily on the ability to accurately cluster similar products. The better the classification, the more insights Otto Group can generate about their product range.\n",
    "\n",
    "In this lab, you'll use a data set containing:\n",
    "- A column `id`, which is an anonymous id unique to a product\n",
    "- 93 columns `feat_1`, `feat_2`, ..., `feat_93`, which are the various features of a product\n",
    "- a column `target` - the class of a product\n"
   ]
  },
  {
   "cell_type": "markdown",
   "metadata": {},
   "source": [
    "## Objectives\n",
    "\n",
    "You will be able to:\n",
    "- Compare different classification techniques\n",
    "- Construct pipelines in scikit-learn\n",
    "- Use pipelines in combination with GridSearchCV"
   ]
  },
  {
   "cell_type": "markdown",
   "metadata": {},
   "source": [
    "## The Data Science Workflow"
   ]
  },
  {
   "cell_type": "markdown",
   "metadata": {},
   "source": [
    "You will be following the data science workflow:\n",
    "\n",
    "1. Initial data inspection, exploratory data analysis, and cleaning\n",
    "2. Feature engineering and selection\n",
    "3. create a baseline model\n",
    "4. create a machine learning pipeline and compare results with the baseline model\n",
    "5. Interpret the model and draw conclusions"
   ]
  },
  {
   "cell_type": "markdown",
   "metadata": {},
   "source": [
    "##  Initial data inspection, exploratory data analysis, and cleaning"
   ]
  },
  {
   "cell_type": "markdown",
   "metadata": {},
   "source": [
    "The data is stored in \"otto_group.csv\".\n",
    "\n",
    "Things to do here:\n",
    "- Check for NAs\n",
    "- Check the distributions\n",
    "- Check how many inputs there are\n",
    "- ..."
   ]
  },
  {
   "cell_type": "code",
   "execution_count": 2,
   "metadata": {},
   "outputs": [
    {
     "data": {
      "text/html": [
       "<div>\n",
       "<style scoped>\n",
       "    .dataframe tbody tr th:only-of-type {\n",
       "        vertical-align: middle;\n",
       "    }\n",
       "\n",
       "    .dataframe tbody tr th {\n",
       "        vertical-align: top;\n",
       "    }\n",
       "\n",
       "    .dataframe thead th {\n",
       "        text-align: right;\n",
       "    }\n",
       "</style>\n",
       "<table border=\"1\" class=\"dataframe\">\n",
       "  <thead>\n",
       "    <tr style=\"text-align: right;\">\n",
       "      <th></th>\n",
       "      <th>id</th>\n",
       "      <th>feat_1</th>\n",
       "      <th>feat_2</th>\n",
       "      <th>feat_3</th>\n",
       "      <th>feat_4</th>\n",
       "      <th>feat_5</th>\n",
       "      <th>feat_6</th>\n",
       "      <th>feat_7</th>\n",
       "      <th>feat_8</th>\n",
       "      <th>feat_9</th>\n",
       "      <th>...</th>\n",
       "      <th>feat_85</th>\n",
       "      <th>feat_86</th>\n",
       "      <th>feat_87</th>\n",
       "      <th>feat_88</th>\n",
       "      <th>feat_89</th>\n",
       "      <th>feat_90</th>\n",
       "      <th>feat_91</th>\n",
       "      <th>feat_92</th>\n",
       "      <th>feat_93</th>\n",
       "      <th>target</th>\n",
       "    </tr>\n",
       "  </thead>\n",
       "  <tbody>\n",
       "    <tr>\n",
       "      <th>0</th>\n",
       "      <td>1</td>\n",
       "      <td>1</td>\n",
       "      <td>0</td>\n",
       "      <td>0</td>\n",
       "      <td>0</td>\n",
       "      <td>0</td>\n",
       "      <td>0</td>\n",
       "      <td>0</td>\n",
       "      <td>0</td>\n",
       "      <td>0</td>\n",
       "      <td>...</td>\n",
       "      <td>1</td>\n",
       "      <td>0</td>\n",
       "      <td>0</td>\n",
       "      <td>0</td>\n",
       "      <td>0</td>\n",
       "      <td>0</td>\n",
       "      <td>0</td>\n",
       "      <td>0</td>\n",
       "      <td>0</td>\n",
       "      <td>Class_1</td>\n",
       "    </tr>\n",
       "    <tr>\n",
       "      <th>1</th>\n",
       "      <td>2</td>\n",
       "      <td>0</td>\n",
       "      <td>0</td>\n",
       "      <td>0</td>\n",
       "      <td>0</td>\n",
       "      <td>0</td>\n",
       "      <td>0</td>\n",
       "      <td>0</td>\n",
       "      <td>1</td>\n",
       "      <td>0</td>\n",
       "      <td>...</td>\n",
       "      <td>0</td>\n",
       "      <td>0</td>\n",
       "      <td>0</td>\n",
       "      <td>0</td>\n",
       "      <td>0</td>\n",
       "      <td>0</td>\n",
       "      <td>0</td>\n",
       "      <td>0</td>\n",
       "      <td>0</td>\n",
       "      <td>Class_1</td>\n",
       "    </tr>\n",
       "    <tr>\n",
       "      <th>2</th>\n",
       "      <td>3</td>\n",
       "      <td>0</td>\n",
       "      <td>0</td>\n",
       "      <td>0</td>\n",
       "      <td>0</td>\n",
       "      <td>0</td>\n",
       "      <td>0</td>\n",
       "      <td>0</td>\n",
       "      <td>1</td>\n",
       "      <td>0</td>\n",
       "      <td>...</td>\n",
       "      <td>0</td>\n",
       "      <td>0</td>\n",
       "      <td>0</td>\n",
       "      <td>0</td>\n",
       "      <td>0</td>\n",
       "      <td>0</td>\n",
       "      <td>0</td>\n",
       "      <td>0</td>\n",
       "      <td>0</td>\n",
       "      <td>Class_1</td>\n",
       "    </tr>\n",
       "    <tr>\n",
       "      <th>3</th>\n",
       "      <td>4</td>\n",
       "      <td>1</td>\n",
       "      <td>0</td>\n",
       "      <td>0</td>\n",
       "      <td>1</td>\n",
       "      <td>6</td>\n",
       "      <td>1</td>\n",
       "      <td>5</td>\n",
       "      <td>0</td>\n",
       "      <td>0</td>\n",
       "      <td>...</td>\n",
       "      <td>0</td>\n",
       "      <td>1</td>\n",
       "      <td>2</td>\n",
       "      <td>0</td>\n",
       "      <td>0</td>\n",
       "      <td>0</td>\n",
       "      <td>0</td>\n",
       "      <td>0</td>\n",
       "      <td>0</td>\n",
       "      <td>Class_1</td>\n",
       "    </tr>\n",
       "    <tr>\n",
       "      <th>4</th>\n",
       "      <td>5</td>\n",
       "      <td>0</td>\n",
       "      <td>0</td>\n",
       "      <td>0</td>\n",
       "      <td>0</td>\n",
       "      <td>0</td>\n",
       "      <td>0</td>\n",
       "      <td>0</td>\n",
       "      <td>0</td>\n",
       "      <td>0</td>\n",
       "      <td>...</td>\n",
       "      <td>1</td>\n",
       "      <td>0</td>\n",
       "      <td>0</td>\n",
       "      <td>0</td>\n",
       "      <td>0</td>\n",
       "      <td>1</td>\n",
       "      <td>0</td>\n",
       "      <td>0</td>\n",
       "      <td>0</td>\n",
       "      <td>Class_1</td>\n",
       "    </tr>\n",
       "  </tbody>\n",
       "</table>\n",
       "<p>5 rows × 95 columns</p>\n",
       "</div>"
      ],
      "text/plain": [
       "   id  feat_1  feat_2  feat_3  feat_4  feat_5  feat_6  feat_7  feat_8  feat_9  \\\n",
       "0   1       1       0       0       0       0       0       0       0       0   \n",
       "1   2       0       0       0       0       0       0       0       1       0   \n",
       "2   3       0       0       0       0       0       0       0       1       0   \n",
       "3   4       1       0       0       1       6       1       5       0       0   \n",
       "4   5       0       0       0       0       0       0       0       0       0   \n",
       "\n",
       "    ...     feat_85  feat_86  feat_87  feat_88  feat_89  feat_90  feat_91  \\\n",
       "0   ...           1        0        0        0        0        0        0   \n",
       "1   ...           0        0        0        0        0        0        0   \n",
       "2   ...           0        0        0        0        0        0        0   \n",
       "3   ...           0        1        2        0        0        0        0   \n",
       "4   ...           1        0        0        0        0        1        0   \n",
       "\n",
       "   feat_92  feat_93   target  \n",
       "0        0        0  Class_1  \n",
       "1        0        0  Class_1  \n",
       "2        0        0  Class_1  \n",
       "3        0        0  Class_1  \n",
       "4        0        0  Class_1  \n",
       "\n",
       "[5 rows x 95 columns]"
      ]
     },
     "execution_count": 2,
     "metadata": {},
     "output_type": "execute_result"
    }
   ],
   "source": [
    "import pandas as pd\n",
    "df = pd.read_csv('otto_group.csv')\n",
    "df.head()"
   ]
  },
  {
   "cell_type": "code",
   "execution_count": 8,
   "metadata": {},
   "outputs": [
    {
     "data": {
      "text/plain": [
       "[]"
      ]
     },
     "execution_count": 8,
     "metadata": {},
     "output_type": "execute_result"
    }
   ],
   "source": [
    "list(filter(lambda feat: feat != 0, df.isna().sum())) # no Null values"
   ]
  },
  {
   "cell_type": "code",
   "execution_count": 9,
   "metadata": {},
   "outputs": [
    {
     "data": {
      "text/plain": [
       "array([[<matplotlib.axes._subplots.AxesSubplot object at 0x7f15c28fc048>,\n",
       "        <matplotlib.axes._subplots.AxesSubplot object at 0x7f15c2609358>,\n",
       "        <matplotlib.axes._subplots.AxesSubplot object at 0x7f15c2632780>,\n",
       "        <matplotlib.axes._subplots.AxesSubplot object at 0x7f15c25dbe10>,\n",
       "        <matplotlib.axes._subplots.AxesSubplot object at 0x7f15c258b4e0>,\n",
       "        <matplotlib.axes._subplots.AxesSubplot object at 0x7f15c258b518>,\n",
       "        <matplotlib.axes._subplots.AxesSubplot object at 0x7f15c2562240>,\n",
       "        <matplotlib.axes._subplots.AxesSubplot object at 0x7f15c25098d0>,\n",
       "        <matplotlib.axes._subplots.AxesSubplot object at 0x7f15c2531f60>,\n",
       "        <matplotlib.axes._subplots.AxesSubplot object at 0x7f15c24e0630>],\n",
       "       [<matplotlib.axes._subplots.AxesSubplot object at 0x7f15c2488cc0>,\n",
       "        <matplotlib.axes._subplots.AxesSubplot object at 0x7f15c24bb390>,\n",
       "        <matplotlib.axes._subplots.AxesSubplot object at 0x7f15c2462a20>,\n",
       "        <matplotlib.axes._subplots.AxesSubplot object at 0x7f15c24140f0>,\n",
       "        <matplotlib.axes._subplots.AxesSubplot object at 0x7f15c243c780>,\n",
       "        <matplotlib.axes._subplots.AxesSubplot object at 0x7f15c23e3e10>,\n",
       "        <matplotlib.axes._subplots.AxesSubplot object at 0x7f15c23934e0>,\n",
       "        <matplotlib.axes._subplots.AxesSubplot object at 0x7f15c23b9b70>,\n",
       "        <matplotlib.axes._subplots.AxesSubplot object at 0x7f15c236c240>,\n",
       "        <matplotlib.axes._subplots.AxesSubplot object at 0x7f15c23148d0>],\n",
       "       [<matplotlib.axes._subplots.AxesSubplot object at 0x7f15c233bf60>,\n",
       "        <matplotlib.axes._subplots.AxesSubplot object at 0x7f15c22ec630>,\n",
       "        <matplotlib.axes._subplots.AxesSubplot object at 0x7f15c2293cc0>,\n",
       "        <matplotlib.axes._subplots.AxesSubplot object at 0x7f15c22c4390>,\n",
       "        <matplotlib.axes._subplots.AxesSubplot object at 0x7f15c226ca20>,\n",
       "        <matplotlib.axes._subplots.AxesSubplot object at 0x7f15c221f0f0>,\n",
       "        <matplotlib.axes._subplots.AxesSubplot object at 0x7f15c21c7780>,\n",
       "        <matplotlib.axes._subplots.AxesSubplot object at 0x7f15c21eee10>,\n",
       "        <matplotlib.axes._subplots.AxesSubplot object at 0x7f15c219d4e0>,\n",
       "        <matplotlib.axes._subplots.AxesSubplot object at 0x7f15c2146b70>],\n",
       "       [<matplotlib.axes._subplots.AxesSubplot object at 0x7f15c2178240>,\n",
       "        <matplotlib.axes._subplots.AxesSubplot object at 0x7f15c211f8d0>,\n",
       "        <matplotlib.axes._subplots.AxesSubplot object at 0x7f15c20c7f60>,\n",
       "        <matplotlib.axes._subplots.AxesSubplot object at 0x7f15c20f8630>,\n",
       "        <matplotlib.axes._subplots.AxesSubplot object at 0x7f15c20a0cc0>,\n",
       "        <matplotlib.axes._subplots.AxesSubplot object at 0x7f15c2051390>,\n",
       "        <matplotlib.axes._subplots.AxesSubplot object at 0x7f15c2077a20>,\n",
       "        <matplotlib.axes._subplots.AxesSubplot object at 0x7f15c20290f0>,\n",
       "        <matplotlib.axes._subplots.AxesSubplot object at 0x7f15c1fd1780>,\n",
       "        <matplotlib.axes._subplots.AxesSubplot object at 0x7f15c1ff9e10>],\n",
       "       [<matplotlib.axes._subplots.AxesSubplot object at 0x7f15c1fa94e0>,\n",
       "        <matplotlib.axes._subplots.AxesSubplot object at 0x7f15c1f50b70>,\n",
       "        <matplotlib.axes._subplots.AxesSubplot object at 0x7f15c1f82240>,\n",
       "        <matplotlib.axes._subplots.AxesSubplot object at 0x7f15c1f298d0>,\n",
       "        <matplotlib.axes._subplots.AxesSubplot object at 0x7f15c1ed2f60>,\n",
       "        <matplotlib.axes._subplots.AxesSubplot object at 0x7f15c1f00630>,\n",
       "        <matplotlib.axes._subplots.AxesSubplot object at 0x7f15c1ea9cc0>,\n",
       "        <matplotlib.axes._subplots.AxesSubplot object at 0x7f15c1e5e390>,\n",
       "        <matplotlib.axes._subplots.AxesSubplot object at 0x7f15c1e83a20>,\n",
       "        <matplotlib.axes._subplots.AxesSubplot object at 0x7f15c1e350f0>],\n",
       "       [<matplotlib.axes._subplots.AxesSubplot object at 0x7f15c1ddd780>,\n",
       "        <matplotlib.axes._subplots.AxesSubplot object at 0x7f15c1e05e10>,\n",
       "        <matplotlib.axes._subplots.AxesSubplot object at 0x7f15c1db54e0>,\n",
       "        <matplotlib.axes._subplots.AxesSubplot object at 0x7f15c1d5db70>,\n",
       "        <matplotlib.axes._subplots.AxesSubplot object at 0x7f15c1d0e240>,\n",
       "        <matplotlib.axes._subplots.AxesSubplot object at 0x7f15c1d368d0>,\n",
       "        <matplotlib.axes._subplots.AxesSubplot object at 0x7f15c1cdbf60>,\n",
       "        <matplotlib.axes._subplots.AxesSubplot object at 0x7f15c1c8e630>,\n",
       "        <matplotlib.axes._subplots.AxesSubplot object at 0x7f15c1cb5cc0>,\n",
       "        <matplotlib.axes._subplots.AxesSubplot object at 0x7f15c1c66390>],\n",
       "       [<matplotlib.axes._subplots.AxesSubplot object at 0x7f15c1c0ea20>,\n",
       "        <matplotlib.axes._subplots.AxesSubplot object at 0x7f15c1c410f0>,\n",
       "        <matplotlib.axes._subplots.AxesSubplot object at 0x7f15c1be5780>,\n",
       "        <matplotlib.axes._subplots.AxesSubplot object at 0x7f15c1b8ee10>,\n",
       "        <matplotlib.axes._subplots.AxesSubplot object at 0x7f15c1bbf4e0>,\n",
       "        <matplotlib.axes._subplots.AxesSubplot object at 0x7f15c1b67b70>,\n",
       "        <matplotlib.axes._subplots.AxesSubplot object at 0x7f15c1b19240>,\n",
       "        <matplotlib.axes._subplots.AxesSubplot object at 0x7f15c1b418d0>,\n",
       "        <matplotlib.axes._subplots.AxesSubplot object at 0x7f15c1ae9f60>,\n",
       "        <matplotlib.axes._subplots.AxesSubplot object at 0x7f15c1a98630>],\n",
       "       [<matplotlib.axes._subplots.AxesSubplot object at 0x7f15c1ac1cc0>,\n",
       "        <matplotlib.axes._subplots.AxesSubplot object at 0x7f15c1a72390>,\n",
       "        <matplotlib.axes._subplots.AxesSubplot object at 0x7f15c1a1aa20>,\n",
       "        <matplotlib.axes._subplots.AxesSubplot object at 0x7f15c19ca0f0>,\n",
       "        <matplotlib.axes._subplots.AxesSubplot object at 0x7f15c19f3780>,\n",
       "        <matplotlib.axes._subplots.AxesSubplot object at 0x7f15c199be10>,\n",
       "        <matplotlib.axes._subplots.AxesSubplot object at 0x7f15c194b4e0>,\n",
       "        <matplotlib.axes._subplots.AxesSubplot object at 0x7f15c1974b70>,\n",
       "        <matplotlib.axes._subplots.AxesSubplot object at 0x7f15c1925240>,\n",
       "        <matplotlib.axes._subplots.AxesSubplot object at 0x7f15c18cb8d0>],\n",
       "       [<matplotlib.axes._subplots.AxesSubplot object at 0x7f15c18f4f60>,\n",
       "        <matplotlib.axes._subplots.AxesSubplot object at 0x7f15c18a3630>,\n",
       "        <matplotlib.axes._subplots.AxesSubplot object at 0x7f15c184bcc0>,\n",
       "        <matplotlib.axes._subplots.AxesSubplot object at 0x7f15c187e390>,\n",
       "        <matplotlib.axes._subplots.AxesSubplot object at 0x7f15c1825a20>,\n",
       "        <matplotlib.axes._subplots.AxesSubplot object at 0x7f15c17d50f0>,\n",
       "        <matplotlib.axes._subplots.AxesSubplot object at 0x7f15c17fd780>,\n",
       "        <matplotlib.axes._subplots.AxesSubplot object at 0x7f15c17a5e10>,\n",
       "        <matplotlib.axes._subplots.AxesSubplot object at 0x7f15c17574e0>,\n",
       "        <matplotlib.axes._subplots.AxesSubplot object at 0x7f15c177eb70>],\n",
       "       [<matplotlib.axes._subplots.AxesSubplot object at 0x7f15c1731240>,\n",
       "        <matplotlib.axes._subplots.AxesSubplot object at 0x7f15c16d88d0>,\n",
       "        <matplotlib.axes._subplots.AxesSubplot object at 0x7f15c1701f60>,\n",
       "        <matplotlib.axes._subplots.AxesSubplot object at 0x7f15c16b3630>,\n",
       "        <matplotlib.axes._subplots.AxesSubplot object at 0x7f15c1659cc0>,\n",
       "        <matplotlib.axes._subplots.AxesSubplot object at 0x7f15c160a390>,\n",
       "        <matplotlib.axes._subplots.AxesSubplot object at 0x7f15c1630a20>,\n",
       "        <matplotlib.axes._subplots.AxesSubplot object at 0x7f15c15e10f0>,\n",
       "        <matplotlib.axes._subplots.AxesSubplot object at 0x7f15c158b780>,\n",
       "        <matplotlib.axes._subplots.AxesSubplot object at 0x7f15c15b2e10>]],\n",
       "      dtype=object)"
      ]
     },
     "execution_count": 9,
     "metadata": {},
     "output_type": "execute_result"
    }
   ],
   "source": [
    "feat = data.loc[:, 'feat_1':'feat_30']\n",
    "feat.hist(figsize=(30,20));"
   ]
  },
  {
   "cell_type": "code",
   "execution_count": null,
   "metadata": {},
   "outputs": [],
   "source": [
    "# Your code here"
   ]
  },
  {
   "cell_type": "code",
   "execution_count": null,
   "metadata": {},
   "outputs": [],
   "source": [
    "# Your code here"
   ]
  },
  {
   "cell_type": "code",
   "execution_count": null,
   "metadata": {},
   "outputs": [],
   "source": [
    "# Your code here"
   ]
  },
  {
   "cell_type": "markdown",
   "metadata": {},
   "source": [
    "If you look at all the histograms, you can tell that a lot of the data are zero-inflated, so most of the variables contain mostly zeros and then some higher values here and there. No normality, but for most machine learning techniques this is not an issue. "
   ]
  },
  {
   "cell_type": "code",
   "execution_count": null,
   "metadata": {},
   "outputs": [],
   "source": [
    "# Your code here"
   ]
  },
  {
   "cell_type": "markdown",
   "metadata": {},
   "source": [
    "Because the data is zero-inflated the boxplots look as shown above. Because there are this many zeroes, most values above zero will seem to be outliers. The safe decision for this data is to not delete any outliers and see what happens. With many 0s, sparse data is available and high values may be super informative. More-over, without having any intuitive meaning for each of the features, we don't know if a value of ~260 is actually an outlier."
   ]
  },
  {
   "cell_type": "code",
   "execution_count": null,
   "metadata": {},
   "outputs": [],
   "source": [
    "# Your code here"
   ]
  },
  {
   "cell_type": "markdown",
   "metadata": {},
   "source": [
    "## Feature engineering and selection with PCA"
   ]
  },
  {
   "cell_type": "markdown",
   "metadata": {},
   "source": [
    "Have a look at the correlation structure of your features using a heatmap."
   ]
  },
  {
   "cell_type": "code",
   "execution_count": null,
   "metadata": {},
   "outputs": [],
   "source": [
    "# Your code here"
   ]
  },
  {
   "cell_type": "markdown",
   "metadata": {},
   "source": [
    "Use PCA to downscale your features. Use PCA to select a number of features in a way that you still keep 80% of your explained variance."
   ]
  },
  {
   "cell_type": "code",
   "execution_count": null,
   "metadata": {},
   "outputs": [],
   "source": [
    "# Your code here"
   ]
  },
  {
   "cell_type": "code",
   "execution_count": null,
   "metadata": {},
   "outputs": [],
   "source": [
    "# Your code here"
   ]
  },
  {
   "cell_type": "markdown",
   "metadata": {},
   "source": [
    "## Create a train test split with a test size of 40%"
   ]
  },
  {
   "cell_type": "markdown",
   "metadata": {},
   "source": [
    "This is a relatively big training set. Feel free to make it smaller (down to ~20%), but for an initial run you can try smaller training sets so the computation time is more manageable.\n",
    "\n",
    "For now, simply use the original data and not the principal components. We looked at the PC's first to get a sense of our correlation structure, and to see how we can downsize our data without losing too much information. In what's next, you'll make PCA part of the pipeline!!"
   ]
  },
  {
   "cell_type": "code",
   "execution_count": null,
   "metadata": {},
   "outputs": [],
   "source": [
    "# Your code here"
   ]
  },
  {
   "cell_type": "code",
   "execution_count": null,
   "metadata": {},
   "outputs": [],
   "source": [
    "# Your code here"
   ]
  },
  {
   "cell_type": "markdown",
   "metadata": {},
   "source": [
    "## Create a baseline model"
   ]
  },
  {
   "cell_type": "markdown",
   "metadata": {},
   "source": [
    "Create your baseline model *in a pipeline setting*. In the pipeline\n",
    "- Your first step will be to scale your features down to the number of features that ensure you keep just 80% of your explained variance (which we saw before)\n",
    "- Your second step will be the building a basic logistic regression model.\n",
    "\n",
    "Make sure to fit the model using the training set, and test the result by obtaining the accuracy using the test set."
   ]
  },
  {
   "cell_type": "code",
   "execution_count": null,
   "metadata": {},
   "outputs": [],
   "source": [
    "# Your code here"
   ]
  },
  {
   "cell_type": "code",
   "execution_count": null,
   "metadata": {},
   "outputs": [],
   "source": [
    "# Your code here"
   ]
  },
  {
   "cell_type": "code",
   "execution_count": null,
   "metadata": {},
   "outputs": [],
   "source": [
    "# Your code here"
   ]
  },
  {
   "cell_type": "markdown",
   "metadata": {},
   "source": [
    "## Create a pipeline consisting of a linear SVM, a simple Decision Tree and a simple Random Forest Classifier"
   ]
  },
  {
   "cell_type": "markdown",
   "metadata": {},
   "source": [
    "Repeat the above, but now create three different pipelines:\n",
    "- One for a standard linear SCM\n",
    "- One for a default decision tree\n",
    "- One for a RandomForestClassifier"
   ]
  },
  {
   "cell_type": "code",
   "execution_count": null,
   "metadata": {},
   "outputs": [],
   "source": [
    "# Your code here"
   ]
  },
  {
   "cell_type": "markdown",
   "metadata": {},
   "source": [
    "## Pipeline with grid search"
   ]
  },
  {
   "cell_type": "markdown",
   "metadata": {},
   "source": [
    "Construct 3 pipelines with grid search\n",
    "- one for support vector machines - make sure your grid isn't too big. You'll see it takes quite a while to fit SVMs with non-linear kernel functions!\n",
    "- one for random forests - try to have around 40 different models\n",
    "- one for the adaboost algorithm. "
   ]
  },
  {
   "cell_type": "markdown",
   "metadata": {},
   "source": [
    "### SVM pipeline with grid search"
   ]
  },
  {
   "cell_type": "code",
   "execution_count": null,
   "metadata": {},
   "outputs": [],
   "source": [
    "# Your code here"
   ]
  },
  {
   "cell_type": "code",
   "execution_count": null,
   "metadata": {},
   "outputs": [],
   "source": [
    "# Your code here"
   ]
  },
  {
   "cell_type": "markdown",
   "metadata": {},
   "source": [
    "Use your grid search object along with `.cv_results` to get the full result overview"
   ]
  },
  {
   "cell_type": "code",
   "execution_count": null,
   "metadata": {},
   "outputs": [],
   "source": [
    "# Your code here"
   ]
  },
  {
   "cell_type": "markdown",
   "metadata": {},
   "source": [
    "### Random Forest pipeline with grid search"
   ]
  },
  {
   "cell_type": "code",
   "execution_count": null,
   "metadata": {},
   "outputs": [],
   "source": [
    "# Your code here"
   ]
  },
  {
   "cell_type": "code",
   "execution_count": null,
   "metadata": {},
   "outputs": [],
   "source": [
    "# Your code here"
   ]
  },
  {
   "cell_type": "markdown",
   "metadata": {},
   "source": [
    "## Adaboost"
   ]
  },
  {
   "cell_type": "code",
   "execution_count": null,
   "metadata": {},
   "outputs": [],
   "source": [
    "# Your code here"
   ]
  },
  {
   "cell_type": "markdown",
   "metadata": {},
   "source": [
    "## Note\n",
    "\n",
    "Note that this solution is only one of many options. The results in the Random Forest and Adaboost models show that there is a lot of improvement possible tuning the hyperparameters further, so make sure to explore this yourself!"
   ]
  },
  {
   "cell_type": "markdown",
   "metadata": {},
   "source": [
    "## Summary \n",
    "\n",
    "Great! You now got a lot of practice in. What algorithm would you choose and why?"
   ]
  }
 ],
 "metadata": {
  "kernelspec": {
   "display_name": "Python 3",
   "language": "python",
   "name": "python3"
  },
  "language_info": {
   "codemirror_mode": {
    "name": "ipython",
    "version": 3
   },
   "file_extension": ".py",
   "mimetype": "text/x-python",
   "name": "python",
   "nbconvert_exporter": "python",
   "pygments_lexer": "ipython3",
   "version": "3.6.6"
  }
 },
 "nbformat": 4,
 "nbformat_minor": 2
}
